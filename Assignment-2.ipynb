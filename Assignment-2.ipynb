{
 "cells": [
  {
   "cell_type": "code",
   "execution_count": 1,
   "id": "121f4cb2",
   "metadata": {},
   "outputs": [],
   "source": [
    "## Assignment Part-1"
   ]
  },
  {
   "cell_type": "markdown",
   "id": "b5b9f053",
   "metadata": {},
   "source": [
    "Q1. Why do we call Python as a general purpose and high-level programming language?"
   ]
  },
  {
   "cell_type": "raw",
   "id": "033e0aac",
   "metadata": {},
   "source": [
    "A. As python is used in data science, web development, app development purpose, hence it is called general purpose language\n",
    "Python is not dependent on hardware architechture of machine , so it is called High Level language"
   ]
  },
  {
   "cell_type": "markdown",
   "id": "8646bf9a",
   "metadata": {},
   "source": [
    "Q2. Why is Python called a dynamically typed language?"
   ]
  },
  {
   "cell_type": "markdown",
   "id": "6e5b78fc",
   "metadata": {},
   "source": [
    "A. When any value assigned to a variable, its data type is not required during compilation time. The data type of variable is assigned to it during run time. Hence python is called dynamically typed language."
   ]
  },
  {
   "cell_type": "markdown",
   "id": "89b5d093",
   "metadata": {},
   "source": [
    "Q3. List some pros and cons of Python programming language?"
   ]
  },
  {
   "cell_type": "markdown",
   "id": "dbd3cc9b",
   "metadata": {},
   "source": [
    "A. Pros.:\n",
    "    *Easy to write code\n",
    "    *plenty of predefined libraries are available for different operations\n",
    "    *Cn be used in many different application e.g. app development, web development, data science etc.\n",
    "\n",
    "--> Cons:\n",
    "    *As it is a interpreted language, if there is multiple syntatic error then all errors cannot be identified on a single interpretaion of code.\n",
    "    *The processing time is low as compared to C++ , JAVA etc."
   ]
  },
  {
   "cell_type": "markdown",
   "id": "7823c1cd",
   "metadata": {},
   "source": [
    "Q5. What are variable and how can we declare them?"
   ]
  },
  {
   "cell_type": "markdown",
   "id": "83c6c289",
   "metadata": {},
   "source": [
    "Variables are the objects which has a name and certain value. The value of the variable can be accessed by using its name multiple times in a code.\n",
    "\n",
    "Variable declaration-->\n",
    "Variable_name = value\n",
    "e.g.: age = 25"
   ]
  },
  {
   "cell_type": "markdown",
   "id": "c8ec2cad",
   "metadata": {},
   "source": [
    "Q6. How can we take an input from the user in Python?"
   ]
  },
  {
   "cell_type": "markdown",
   "id": "0ed41dbe",
   "metadata": {},
   "source": [
    "by using the function \"input()\"\n",
    "\n",
    "e.g. var = input(\"Enter any value\")"
   ]
  },
  {
   "cell_type": "markdown",
   "id": "5ed9e7be",
   "metadata": {},
   "source": [
    "Q7. What is the default datatype of the value that has been taken as an input using input() function?"
   ]
  },
  {
   "cell_type": "markdown",
   "id": "7bff4c5a",
   "metadata": {},
   "source": [
    "str"
   ]
  },
  {
   "cell_type": "markdown",
   "id": "75448b1d",
   "metadata": {},
   "source": [
    "Q8. What is type casting?"
   ]
  },
  {
   "cell_type": "markdown",
   "id": "20764733",
   "metadata": {},
   "source": [
    "Changing the data type of a variable is called type casting "
   ]
  },
  {
   "cell_type": "markdown",
   "id": "cb46bb28",
   "metadata": {},
   "source": [
    "Q9. Can we take more than one input from the user using single input() function? If yes, how? If no, why?"
   ]
  },
  {
   "cell_type": "markdown",
   "id": "49ea7b9b",
   "metadata": {},
   "source": [
    "ONLY ONE INPUT cab be taked from user using single input() function. Beacause after giving the required input and after hitting enter the interpreter moves to next line to excute.\n"
   ]
  },
  {
   "cell_type": "markdown",
   "id": "31f190fa",
   "metadata": {},
   "source": [
    "Q10. What are keywords?"
   ]
  },
  {
   "cell_type": "markdown",
   "id": "2bb7057c",
   "metadata": {},
   "source": [
    "A. Keywords are the words which are defined in python interpreter and  used by python interpreter to identify the logic written by the user."
   ]
  },
  {
   "cell_type": "markdown",
   "id": "65734b02",
   "metadata": {},
   "source": [
    "Q11. Can we use keywords as a variable? Support your answer with reason."
   ]
  },
  {
   "cell_type": "markdown",
   "id": "63590a04",
   "metadata": {},
   "source": [
    "Keywords cannot be used as a variable, As this will confuse the interpreter to process the logic and the interpreter will throw error."
   ]
  },
  {
   "cell_type": "markdown",
   "id": "586f7872",
   "metadata": {},
   "source": [
    "Q12. What is indentation? What's the use of indentaion in Python?"
   ]
  },
  {
   "cell_type": "markdown",
   "id": "80f1cfc0",
   "metadata": {},
   "source": [
    "In Python, the number of space at the starting of every line of code in called Indentaion. Indentation is used by the interpreter to get the start and end of entity."
   ]
  },
  {
   "cell_type": "markdown",
   "id": "7f607cd8",
   "metadata": {},
   "source": [
    "Q13. How can we throw some output in Python?"
   ]
  },
  {
   "cell_type": "markdown",
   "id": "1024852f",
   "metadata": {},
   "source": [
    "In a function \"return\" keyword is used to throw some output. To show output to user \"print()\" function is used"
   ]
  },
  {
   "cell_type": "raw",
   "id": "31338429",
   "metadata": {},
   "source": [
    "Q14. What are operators in Python?"
   ]
  },
  {
   "cell_type": "markdown",
   "id": "2a0cfdd6",
   "metadata": {},
   "source": [
    "Operators are some symbol or keyword used to porform some operations between two operands."
   ]
  },
  {
   "cell_type": "code",
   "execution_count": null,
   "id": "a8c9a204",
   "metadata": {},
   "outputs": [],
   "source": [
    "Q15. What is difference between / and // operators?"
   ]
  },
  {
   "cell_type": "code",
   "execution_count": null,
   "id": "ffd6d7e2",
   "metadata": {},
   "outputs": [],
   "source": [
    "/ is used for rational division and // used for integer division i.e. result is quotient of the division."
   ]
  },
  {
   "cell_type": "code",
   "execution_count": null,
   "id": "cf1ed5f0",
   "metadata": {},
   "outputs": [],
   "source": [
    "Q16. Write a code that gives following as an output.\n",
    "```\n",
    "iNeuroniNeuroniNeuroniNeuron\n",
    "```"
   ]
  },
  {
   "cell_type": "code",
   "execution_count": 1,
   "id": "440cf345",
   "metadata": {},
   "outputs": [
    {
     "name": "stdout",
     "output_type": "stream",
     "text": [
      "iNeuroniNeuroniNeuroniNeuron\n"
     ]
    }
   ],
   "source": [
    "print(\"iNeuroniNeuroniNeuroniNeuron\")"
   ]
  },
  {
   "cell_type": "code",
   "execution_count": null,
   "id": "dabf4333",
   "metadata": {},
   "outputs": [],
   "source": [
    "Q17. Write a code to take a number as an input from the user and check if the number is odd or even."
   ]
  },
  {
   "cell_type": "code",
   "execution_count": 3,
   "id": "2bae5439",
   "metadata": {},
   "outputs": [
    {
     "name": "stdout",
     "output_type": "stream",
     "text": [
      "Enter a number5\n",
      "Odd\n"
     ]
    }
   ],
   "source": [
    "num = int(input(\"Enter a number\"))\n",
    "print(\"Even\") if num%2==0 else print(\"Odd\")"
   ]
  },
  {
   "cell_type": "code",
   "execution_count": null,
   "id": "9928f9e2",
   "metadata": {},
   "outputs": [],
   "source": [
    "Q18. What are boolean operator?"
   ]
  },
  {
   "cell_type": "code",
   "execution_count": null,
   "id": "a5b0a6cc",
   "metadata": {},
   "outputs": [],
   "source": [
    "When a boolean operators operates on o[perand given output as either True or False"
   ]
  },
  {
   "cell_type": "code",
   "execution_count": null,
   "id": "2690aea6",
   "metadata": {},
   "outputs": [],
   "source": [
    "Q19. What will the output of the following?\n",
    "```\n",
    "1 or 0\n",
    "\n",
    "0 and 0\n",
    "\n",
    "True and False and True\n",
    "\n",
    "1 or 0 or 0\n",
    "```"
   ]
  },
  {
   "cell_type": "code",
   "execution_count": null,
   "id": "c5f5dcec",
   "metadata": {},
   "outputs": [],
   "source": [
    "1\n",
    "\n",
    "0\n",
    "\n",
    "False\n",
    "\n",
    "\n",
    "1"
   ]
  },
  {
   "cell_type": "markdown",
   "id": "8f42afed",
   "metadata": {},
   "source": [
    "Q20. What are conditional statements in Python?"
   ]
  },
  {
   "cell_type": "raw",
   "id": "e3958744",
   "metadata": {},
   "source": [
    "The statement that execute a block of code based on certain condion is eiter True or False is called consitional statement e.g. if statement, if...else statement etc..."
   ]
  },
  {
   "cell_type": "code",
   "execution_count": null,
   "id": "3e15376d",
   "metadata": {},
   "outputs": [],
   "source": [
    "Q21. What is use of 'if', 'elif' and 'else' keywords?"
   ]
  },
  {
   "cell_type": "code",
   "execution_count": null,
   "id": "1b5a27c3",
   "metadata": {},
   "outputs": [],
   "source": [
    "if is used to execute a block of code when a certain condition is true\n",
    "elif is used to execute a block of code when conditions mentioned above the elif statement becomes False and the elif condition becomes True.\n",
    "else used to execute a block of code when all other conditions mentioned above the else statement becomes False"
   ]
  },
  {
   "cell_type": "code",
   "execution_count": null,
   "id": "07997325",
   "metadata": {},
   "outputs": [],
   "source": [
    "Q22. Write a code to take the age of person as an input and if age >= 18 display \"I can vote\". If age is < 18 display \"I can't vote\"."
   ]
  },
  {
   "cell_type": "code",
   "execution_count": 8,
   "id": "51d5b93c",
   "metadata": {},
   "outputs": [
    {
     "name": "stdout",
     "output_type": "stream",
     "text": [
      "Enter your age14\n",
      "I can't vote\n"
     ]
    }
   ],
   "source": [
    "num = int(input(\"Enter your age\"))\n",
    "print(\"I can vote\") if num>=18 else print(\"I can't vote\")"
   ]
  },
  {
   "cell_type": "code",
   "execution_count": null,
   "id": "3ab87cff",
   "metadata": {},
   "outputs": [],
   "source": [
    "Q23. Write a code that displays the sum of all the even numbers from the given list.\n",
    "```\n",
    "numbers = [12, 75, 150, 180, 145, 525, 50]\n",
    "```\n"
   ]
  },
  {
   "cell_type": "code",
   "execution_count": 6,
   "id": "05dc731f",
   "metadata": {},
   "outputs": [
    {
     "name": "stdout",
     "output_type": "stream",
     "text": [
      "1137\n"
     ]
    },
    {
     "data": {
      "text/plain": [
       "1137"
      ]
     },
     "execution_count": 6,
     "metadata": {},
     "output_type": "execute_result"
    }
   ],
   "source": [
    "from functools import reduce\n",
    "numbers = [12, 75, 150, 180, 145, 525, 50]\n",
    "sum = reduce((lambda x,y : x+y), numbers)\n",
    "print(sum)"
   ]
  },
  {
   "cell_type": "code",
   "execution_count": 3,
   "id": "40f4aa84",
   "metadata": {},
   "outputs": [
    {
     "data": {
      "text/plain": [
       "[2, 1, 0, 4, 2]"
      ]
     },
     "execution_count": 3,
     "metadata": {},
     "output_type": "execute_result"
    }
   ],
   "source": [
    "a = [2,1,-3,0,4,-4,2,-6]\n",
    "result = [x for x in a]\n",
    "result"
   ]
  },
  {
   "cell_type": "code",
   "execution_count": null,
   "id": "ee41f97c",
   "metadata": {},
   "outputs": [],
   "source": [
    "Q24. Write a code to take 3 numbers as an input from the user and display the greatest no as output."
   ]
  },
  {
   "cell_type": "code",
   "execution_count": 7,
   "id": "f128cedf",
   "metadata": {},
   "outputs": [
    {
     "name": "stdout",
     "output_type": "stream",
     "text": [
      "Enter a number3\n",
      "Enter a number67\n",
      "Enter a number23\n"
     ]
    },
    {
     "data": {
      "text/plain": [
       "67"
      ]
     },
     "execution_count": 7,
     "metadata": {},
     "output_type": "execute_result"
    }
   ],
   "source": [
    "num_list=[]\n",
    "for i in range(3):\n",
    "    num_list.append(int(input(\"Enter a number\")))\n",
    "\n",
    "max(num_list)\n",
    "\n"
   ]
  },
  {
   "cell_type": "code",
   "execution_count": null,
   "id": "737bbbfc",
   "metadata": {},
   "outputs": [],
   "source": [
    "Q25. Write a program to display only those numbers from a list that satisfy the following conditions\n",
    "\n",
    "- The number must be divisible by five\n",
    "\n",
    "- If the number is greater than 150, then skip it and move to the next number\n",
    "\n",
    "- If the number is greater than 500, then stop the loop\n",
    "```\n",
    "numbers = [12, 75, 150, 180, 145, 525, 50]\n",
    "```\n"
   ]
  },
  {
   "cell_type": "code",
   "execution_count": 10,
   "id": "d2546c05",
   "metadata": {},
   "outputs": [
    {
     "data": {
      "text/plain": [
       "[75, 150, 145]"
      ]
     },
     "execution_count": 10,
     "metadata": {},
     "output_type": "execute_result"
    }
   ],
   "source": [
    "numbers = [12, 75, 150, 180, 145, 525, 50]\n",
    "new_list=[]\n",
    "for i in numbers:\n",
    "    if i>=500:\n",
    "        break\n",
    "    elif i%5==0 and i<=150:\n",
    "        new_list.append(i)\n",
    "new_list"
   ]
  },
  {
   "cell_type": "code",
   "execution_count": null,
   "id": "cb1e5b1e",
   "metadata": {},
   "outputs": [],
   "source": [
    "Q26. What is a string? How can we declare string in Python?"
   ]
  },
  {
   "cell_type": "raw",
   "id": "14495f12",
   "metadata": {},
   "source": [
    "Anything written within single or double quotes is a string.\n",
    "x = \"nahsy67$%\""
   ]
  },
  {
   "cell_type": "code",
   "execution_count": null,
   "id": "74896ad9",
   "metadata": {},
   "outputs": [],
   "source": [
    "Q27. How can we access the string using its index?"
   ]
  },
  {
   "cell_type": "code",
   "execution_count": null,
   "id": "e2b67f7a",
   "metadata": {},
   "outputs": [],
   "source": [
    "by using square brackets\n",
    "x = \"Ase354$%^\"\n",
    "x[6]"
   ]
  },
  {
   "cell_type": "code",
   "execution_count": null,
   "id": "49682d88",
   "metadata": {},
   "outputs": [],
   "source": [
    "\n",
    "Q28. Write a code to get the desired output of the following\n",
    "```\n",
    "string = \"Big Data iNeuron\"\n",
    "desired_output = \"iNeuron\"\n",
    "```\n"
   ]
  },
  {
   "cell_type": "code",
   "execution_count": 5,
   "id": "b6efdd11",
   "metadata": {},
   "outputs": [
    {
     "data": {
      "text/plain": [
       "'iNeuron'"
      ]
     },
     "execution_count": 5,
     "metadata": {},
     "output_type": "execute_result"
    }
   ],
   "source": [
    "string = \"Big Data iNeuron\"\n",
    "desired_output = string.split(\" \")[2]\n",
    "desired_output"
   ]
  },
  {
   "cell_type": "code",
   "execution_count": null,
   "id": "73cbebfe",
   "metadata": {},
   "outputs": [],
   "source": [
    "Q29. Write a code to get the desired output of the following\n",
    "```\n",
    "string = \"Big Data iNeuron\"\n",
    "desired_output = \"norueNi\""
   ]
  },
  {
   "cell_type": "code",
   "execution_count": 6,
   "id": "62e864ef",
   "metadata": {},
   "outputs": [
    {
     "data": {
      "text/plain": [
       "'norueNi'"
      ]
     },
     "execution_count": 6,
     "metadata": {},
     "output_type": "execute_result"
    }
   ],
   "source": [
    "string = \"Big Data iNeuron\"\n",
    "desired_output = string.split(\" \")[2][::-1]\n",
    "desired_output"
   ]
  },
  {
   "cell_type": "code",
   "execution_count": null,
   "id": "2ae0fba2",
   "metadata": {},
   "outputs": [],
   "source": [
    "Q30. Resverse the string given in the above question."
   ]
  },
  {
   "cell_type": "code",
   "execution_count": 7,
   "id": "4de858e5",
   "metadata": {},
   "outputs": [
    {
     "data": {
      "text/plain": [
       "'norueNi ataD giB'"
      ]
     },
     "execution_count": 7,
     "metadata": {},
     "output_type": "execute_result"
    }
   ],
   "source": [
    "string = \"Big Data iNeuron\"\n",
    "string[::-1]"
   ]
  },
  {
   "cell_type": "markdown",
   "id": "eb97a1cd",
   "metadata": {},
   "source": [
    "Q31. How can you delete entire string at once?"
   ]
  },
  {
   "cell_type": "code",
   "execution_count": null,
   "id": "900b5f66",
   "metadata": {},
   "outputs": [],
   "source": [
    "Strings are immutable. So it cannot be deleted."
   ]
  },
  {
   "cell_type": "code",
   "execution_count": null,
   "id": "7c7baa0a",
   "metadata": {},
   "outputs": [],
   "source": [
    "Q32. What is escape sequence?"
   ]
  },
  {
   "cell_type": "code",
   "execution_count": null,
   "id": "9d3db6f5",
   "metadata": {},
   "outputs": [],
   "source": [
    "Escape sequence are some charecters such as \"\\n\", \"\\t\", \"\\b\" etc..."
   ]
  },
  {
   "cell_type": "markdown",
   "id": "bb186e35",
   "metadata": {},
   "source": [
    "Q33. How can you print the below string?\n",
    "```\n",
    "'iNeuron's Big Data Course'\n",
    "```\n"
   ]
  },
  {
   "cell_type": "code",
   "execution_count": 11,
   "id": "693a3182",
   "metadata": {},
   "outputs": [
    {
     "name": "stdout",
     "output_type": "stream",
     "text": [
      "'iNeuron's Big Data Course'\n"
     ]
    }
   ],
   "source": [
    "Putting the string in double quote \"\"\n",
    "print(\"'iNeuron's Big Data Course'\")"
   ]
  },
  {
   "cell_type": "code",
   "execution_count": null,
   "id": "db8242ad",
   "metadata": {},
   "outputs": [],
   "source": [
    "Q34. What is a list in Python?"
   ]
  },
  {
   "cell_type": "code",
   "execution_count": null,
   "id": "083b4c1c",
   "metadata": {},
   "outputs": [],
   "source": [
    "List is data type in python which can store multiple element of different datatypes"
   ]
  },
  {
   "cell_type": "code",
   "execution_count": null,
   "id": "66352d55",
   "metadata": {},
   "outputs": [],
   "source": [
    "Q35. How can you create a list in Python?"
   ]
  },
  {
   "cell_type": "code",
   "execution_count": null,
   "id": "b2539faf",
   "metadata": {},
   "outputs": [],
   "source": [
    "By using square brackets\n",
    "my_list = [\"Hui\", \"Byew\",\"0989\", 58, 25.24568]"
   ]
  },
  {
   "cell_type": "code",
   "execution_count": null,
   "id": "a1ba6fa8",
   "metadata": {},
   "outputs": [],
   "source": [
    "Q36. How can we access the elements in a list?"
   ]
  },
  {
   "cell_type": "code",
   "execution_count": null,
   "id": "a2b20a12",
   "metadata": {},
   "outputs": [],
   "source": [
    "By using square bracket and index of the element\n",
    "e.g. \n",
    "my_list=[1,2,3,4,5,6]\n",
    "mu_list[3] wil;l return 4"
   ]
  },
  {
   "cell_type": "code",
   "execution_count": null,
   "id": "cd83862f",
   "metadata": {},
   "outputs": [],
   "source": [
    "Q37. Write a code to access the word \"iNeuron\" from the given list.\n",
    "```\n",
    "lst = [1,2,3,\"Hi\",[45,54, \"iNeuron\"], \"Big Data\"]\n",
    "``` \n"
   ]
  },
  {
   "cell_type": "code",
   "execution_count": 12,
   "id": "01f8af78",
   "metadata": {},
   "outputs": [
    {
     "data": {
      "text/plain": [
       "'iNeuron'"
      ]
     },
     "execution_count": 12,
     "metadata": {},
     "output_type": "execute_result"
    }
   ],
   "source": [
    "lst = [1,2,3,\"Hi\",[45,54, \"iNeuron\"], \"Big Data\"]\n",
    "lst[4][2]"
   ]
  },
  {
   "cell_type": "markdown",
   "id": "8d15313a",
   "metadata": {},
   "source": [
    "Q38. Take a list as an input from the user and find the length of the list."
   ]
  },
  {
   "cell_type": "code",
   "execution_count": 20,
   "id": "d76706bd",
   "metadata": {},
   "outputs": [
    {
     "name": "stdout",
     "output_type": "stream",
     "text": [
      "Enter a list separated with comma12,Anshuman\n"
     ]
    },
    {
     "data": {
      "text/plain": [
       "2"
      ]
     },
     "execution_count": 20,
     "metadata": {},
     "output_type": "execute_result"
    }
   ],
   "source": [
    "user_list = input(\"Enter a list separated with comma\").split(\",\")\n",
    "len(user_list)"
   ]
  },
  {
   "cell_type": "markdown",
   "id": "dc16f1eb",
   "metadata": {},
   "source": [
    "Q39. Add the word \"Big\" in the 3rd index of the given list.\n",
    "```\n",
    "lst = [\"Welcome\", \"to\", \"Data\", \"course\"]\n",
    "```\n"
   ]
  },
  {
   "cell_type": "code",
   "execution_count": 2,
   "id": "1161a02d",
   "metadata": {},
   "outputs": [
    {
     "data": {
      "text/plain": [
       "['Welcome', 'to', 'Data', 'Big', 'course']"
      ]
     },
     "execution_count": 2,
     "metadata": {},
     "output_type": "execute_result"
    }
   ],
   "source": [
    "lst = [\"Welcome\", \"to\", \"Data\", \"course\"]\n",
    "lst.insert(3, 'Big')\n",
    "lst"
   ]
  },
  {
   "cell_type": "markdown",
   "id": "2f1ed790",
   "metadata": {},
   "source": [
    "Q40. What is a tuple? How is it different from list?"
   ]
  },
  {
   "cell_type": "raw",
   "id": "fef6321f",
   "metadata": {},
   "source": [
    "Tuple is a data type which store values of other datatypes. Tuple is imutable."
   ]
  },
  {
   "cell_type": "markdown",
   "id": "e9ed5593",
   "metadata": {},
   "source": [
    "Q41. How can you create a tuple in Python?"
   ]
  },
  {
   "cell_type": "code",
   "execution_count": 7,
   "id": "92ea94a5",
   "metadata": {},
   "outputs": [
    {
     "data": {
      "text/plain": [
       "(('One item',), (1, 2, 3, 'Apple', 'Adam', 'Eve'))"
      ]
     },
     "execution_count": 7,
     "metadata": {},
     "output_type": "execute_result"
    }
   ],
   "source": [
    "var_tup = (\"One item\",) # one item tuple\n",
    "var_tup2 = (1,2,3,\"Apple\", \"Adam\", \"Eve\")  # Tuple with data\n",
    "var_tup, var_tup2"
   ]
  },
  {
   "cell_type": "markdown",
   "id": "e299453d",
   "metadata": {},
   "source": [
    "Q42. Create a tuple and try to add your name in the tuple. Are you able to do it? Support your answer with reason."
   ]
  },
  {
   "cell_type": "raw",
   "id": "d24bc9c6",
   "metadata": {},
   "source": [
    "We cannot add any element to an existing tuple directly as it is imutable.\n",
    "So we convert tuple to list then add then gain convert list to tuple. In this way we can add."
   ]
  },
  {
   "cell_type": "markdown",
   "id": "62f47e39",
   "metadata": {},
   "source": [
    "\n",
    "Q43. Can two tuple be appended. If yes, write a code for it. If not, why?"
   ]
  },
  {
   "cell_type": "raw",
   "id": "b93ab195",
   "metadata": {},
   "source": [
    "No. As tuple is imutable"
   ]
  },
  {
   "cell_type": "markdown",
   "id": "6109a4d0",
   "metadata": {},
   "source": [
    "Q44. Take a tuple as an input and print the count of elements in it."
   ]
  },
  {
   "cell_type": "code",
   "execution_count": 10,
   "id": "cc6b61fd",
   "metadata": {},
   "outputs": [
    {
     "data": {
      "text/plain": [
       "6"
      ]
     },
     "execution_count": 10,
     "metadata": {},
     "output_type": "execute_result"
    }
   ],
   "source": [
    "var_tup2 = (1,2,3,\"Apple\", \"Adam\", \"Eve\")\n",
    "\n",
    "len(var_tup2)"
   ]
  },
  {
   "cell_type": "markdown",
   "id": "667ca05d",
   "metadata": {},
   "source": [
    "Q45. What are sets in Python?\n"
   ]
  },
  {
   "cell_type": "code",
   "execution_count": null,
   "id": "c24958fd",
   "metadata": {},
   "outputs": [],
   "source": [
    "Sets are collection of unique and un ordered elements.\n"
   ]
  },
  {
   "cell_type": "markdown",
   "id": "cf51a2be",
   "metadata": {},
   "source": [
    "Q46. How can you create a set?"
   ]
  },
  {
   "cell_type": "code",
   "execution_count": null,
   "id": "3e488259",
   "metadata": {},
   "outputs": [],
   "source": [
    "a_set = {1,2,3,4,5}"
   ]
  },
  {
   "cell_type": "code",
   "execution_count": null,
   "id": "151f7731",
   "metadata": {},
   "outputs": [],
   "source": [
    "Q47. Create a set and add \"iNeuron\" in your set.\n"
   ]
  },
  {
   "cell_type": "code",
   "execution_count": 12,
   "id": "1ef9e3f7",
   "metadata": {},
   "outputs": [
    {
     "data": {
      "text/plain": [
       "{'BIG', 'DATA', 'INeuron'}"
      ]
     },
     "execution_count": 12,
     "metadata": {},
     "output_type": "execute_result"
    }
   ],
   "source": [
    "big={\"BIG\", \"DATA\"}\n",
    "big.add(\"INeuron\")\n",
    "big"
   ]
  },
  {
   "cell_type": "markdown",
   "id": "680565d4",
   "metadata": {},
   "source": [
    "Q48. Try to add multiple values using add() function."
   ]
  },
  {
   "cell_type": "raw",
   "id": "0050e075",
   "metadata": {},
   "source": [
    "add() function do not take multiple values as input"
   ]
  },
  {
   "cell_type": "markdown",
   "id": "311d8739",
   "metadata": {},
   "source": [
    "Q49. How is update() different from add()?"
   ]
  },
  {
   "cell_type": "raw",
   "id": "33ae4b27",
   "metadata": {},
   "source": [
    "add() takes single value as input but update() takes an iterable value as input"
   ]
  },
  {
   "cell_type": "markdown",
   "id": "abd10cff",
   "metadata": {},
   "source": [
    "Q50. What is clear() in sets?"
   ]
  },
  {
   "cell_type": "raw",
   "id": "473ba741",
   "metadata": {},
   "source": [
    "clear() method make the set empty"
   ]
  },
  {
   "cell_type": "markdown",
   "id": "a846abb1",
   "metadata": {},
   "source": [
    "Q51. What is frozen set?"
   ]
  },
  {
   "cell_type": "raw",
   "id": "d3794c21",
   "metadata": {},
   "source": [
    "Frozen set is immutable set"
   ]
  },
  {
   "cell_type": "markdown",
   "id": "5d4f99f3",
   "metadata": {},
   "source": [
    "Q52. How is frozen set different from set?"
   ]
  },
  {
   "cell_type": "raw",
   "id": "ab666a92",
   "metadata": {},
   "source": [
    "set is mutable but frozen set is immutable"
   ]
  },
  {
   "cell_type": "markdown",
   "id": "9d6f0d89",
   "metadata": {},
   "source": [
    "Q53. What is union() in sets? Explain via code."
   ]
  },
  {
   "cell_type": "code",
   "execution_count": 19,
   "id": "84a67418",
   "metadata": {},
   "outputs": [
    {
     "data": {
      "text/plain": [
       "{1, 2, 3, 4, 'Big', 'Data'}"
      ]
     },
     "execution_count": 19,
     "metadata": {},
     "output_type": "execute_result"
    }
   ],
   "source": [
    "A = {1,2,3,4}\n",
    "B = {\"Big\", 1, \"Data\", 2}\n",
    "A.union(B)\n",
    "# An element is present in either in set A or in set B"
   ]
  },
  {
   "cell_type": "markdown",
   "id": "8c11fdb8",
   "metadata": {},
   "source": [
    "Q54. What is intersection() in sets? Explain via code."
   ]
  },
  {
   "cell_type": "code",
   "execution_count": 20,
   "id": "4a111751",
   "metadata": {},
   "outputs": [
    {
     "data": {
      "text/plain": [
       "{1, 2}"
      ]
     },
     "execution_count": 20,
     "metadata": {},
     "output_type": "execute_result"
    }
   ],
   "source": [
    "A = {1,2,3,4}\n",
    "B = {\"Big\", 1, \"Data\", 2}\n",
    "A.intersection(B)\n",
    "# An element is present in set A and in set B"
   ]
  },
  {
   "cell_type": "markdown",
   "id": "0525ce3b",
   "metadata": {},
   "source": [
    "Q55. What is dictionary ibn Python?"
   ]
  },
  {
   "cell_type": "raw",
   "id": "dd6fa8ab",
   "metadata": {},
   "source": [
    "dictionary is similar to map which contains key and value pairs"
   ]
  },
  {
   "cell_type": "markdown",
   "id": "1be7e580",
   "metadata": {},
   "source": [
    "Q56. How is dictionary different from all other data structures."
   ]
  },
  {
   "cell_type": "raw",
   "id": "c1b460b7",
   "metadata": {},
   "source": [
    "dictionary maps one element to another, but other data structure does not."
   ]
  },
  {
   "cell_type": "markdown",
   "id": "7cb27224",
   "metadata": {},
   "source": [
    "Q57. How can we delare a dictionary in Python?"
   ]
  },
  {
   "cell_type": "code",
   "execution_count": 21,
   "id": "06fa16e9",
   "metadata": {},
   "outputs": [],
   "source": [
    "var_dict = {}\n",
    "var_dict_2 = dict()"
   ]
  },
  {
   "cell_type": "markdown",
   "id": "1882c922",
   "metadata": {},
   "source": [
    "Q58. What will the output of the following?\n",
    "```\n",
    "var = {}\n",
    "print(type(var))\n",
    "```\n"
   ]
  },
  {
   "cell_type": "raw",
   "id": "d5f8fcbe",
   "metadata": {},
   "source": [
    "dict"
   ]
  },
  {
   "cell_type": "markdown",
   "id": "69e95f81",
   "metadata": {},
   "source": [
    "Q59. How can we add an element in a dictionary?"
   ]
  },
  {
   "cell_type": "raw",
   "id": "2885c2b7",
   "metadata": {},
   "source": [
    "dict_name[key] = value"
   ]
  },
  {
   "cell_type": "markdown",
   "id": "26208bbd",
   "metadata": {},
   "source": [
    "\n",
    "Q60. Create a dictionary and access all the values in that dictionary."
   ]
  },
  {
   "cell_type": "code",
   "execution_count": 39,
   "id": "b044283d",
   "metadata": {},
   "outputs": [
    {
     "name": "stdout",
     "output_type": "stream",
     "text": [
      "Captain America  :  Winter Soldier\n",
      "Spider Man  :  Far from Home\n",
      "Docter Strange  :  Multiverse of Madness\n",
      "Iron Man  :  2\n",
      "Avenger  :  Age of Ultron\n"
     ]
    }
   ],
   "source": [
    "marvel = {}\n",
    "marvel[\"Captain America\"] = \"Winter Soldier\"\n",
    "marvel[\"Spider Man\"] = \"Far from Home\"\n",
    "marvel[\"Docter Strange\"] = \"Multiverse of Madness\"\n",
    "marvel[\"Iron Man\"] = 2\n",
    "marvel[\"Avenger\"] = \"Age of Ultron\"\n",
    "for i in marvel.keys():\n",
    "    print(i,' : ', marvel[i])"
   ]
  },
  {
   "cell_type": "markdown",
   "id": "9e7bc5cf",
   "metadata": {},
   "source": [
    "Q61. Create a nested dictionary and access all the element in the inner dictionary."
   ]
  },
  {
   "cell_type": "code",
   "execution_count": 26,
   "id": "ddf6051a",
   "metadata": {},
   "outputs": [
    {
     "name": "stdout",
     "output_type": "stream",
     "text": [
      "Marvel  : \n",
      "\t Captain America  :  Winter Soldier\n",
      "\t Spider Man  :  Far from Home\n",
      "\t Docter Strange  :  Multiverse of Madness\n",
      "DC  : \n",
      "\t Batman  :  Dark Knight\n",
      "\t Super man  :  Man of Steel\n",
      "\t Wonder Woman  :  1982\n"
     ]
    }
   ],
   "source": [
    "comics = {\n",
    "    \"Marvel\" : {\n",
    "        \"Captain America\" : \"Winter Soldier\",\n",
    "        \"Spider Man\" : \"Far from Home\",\n",
    "        \"Docter Strange\" : \"Multiverse of Madness\"\n",
    "    },\n",
    "    \"DC\" : {\n",
    "        \"Batman\" : \"Dark Knight\",\n",
    "        \"Super man\" : \"Man of Steel\",\n",
    "        \"Wonder Woman\" : 1982\n",
    "    }\n",
    "}\n",
    "\n",
    "for i in comics.keys():\n",
    "    print(i,\" : \")\n",
    "    for j in comics[i].keys():\n",
    "        print(\"\\t\",j,\" : \", comics[i][j])\n",
    "\n"
   ]
  },
  {
   "cell_type": "markdown",
   "id": "dacc31c4",
   "metadata": {},
   "source": [
    "Q62. What is the use of get() function?"
   ]
  },
  {
   "cell_type": "raw",
   "id": "42a4a8f8",
   "metadata": {},
   "source": [
    "get() take key as input and gives oits coresponding value as output"
   ]
  },
  {
   "cell_type": "markdown",
   "id": "c6510f2e",
   "metadata": {},
   "source": [
    "Q63. What is the use of items() function?"
   ]
  },
  {
   "cell_type": "raw",
   "id": "45267f48",
   "metadata": {},
   "source": [
    "items() gives list of key value pairs in a dict."
   ]
  },
  {
   "cell_type": "markdown",
   "id": "2d04e11b",
   "metadata": {},
   "source": []
  },
  {
   "cell_type": "markdown",
   "id": "8697af7c",
   "metadata": {},
   "source": [
    "Q64. What is the use of pop() function?"
   ]
  },
  {
   "cell_type": "raw",
   "id": "90b8ecec",
   "metadata": {},
   "source": [
    "pop() removes last element from a list and returns it as output."
   ]
  },
  {
   "cell_type": "raw",
   "id": "f33b7554",
   "metadata": {},
   "source": [
    "pop() takes argument as key and removes that element from dict returns values as output"
   ]
  },
  {
   "cell_type": "markdown",
   "id": "6b1bd09e",
   "metadata": {},
   "source": [
    "Q65. What is the use of popitems() function?"
   ]
  },
  {
   "cell_type": "raw",
   "id": "cf747ea9",
   "metadata": {},
   "source": [
    "popitem() removes the last key-value pair and gives it as output"
   ]
  },
  {
   "cell_type": "markdown",
   "id": "8c24e9b8",
   "metadata": {},
   "source": [
    "Q66. What is the use of keys() function?"
   ]
  },
  {
   "cell_type": "raw",
   "id": "30688a74",
   "metadata": {},
   "source": [
    "keys() returns list of all keys in a dicttionary"
   ]
  },
  {
   "cell_type": "markdown",
   "id": "6b3cad50",
   "metadata": {},
   "source": [
    "Q67. What is the use of values() function?"
   ]
  },
  {
   "cell_type": "markdown",
   "id": "1a57c55b",
   "metadata": {},
   "source": [
    "keys() returns list of all values in a dicttionary"
   ]
  },
  {
   "cell_type": "markdown",
   "id": "69cfd450",
   "metadata": {},
   "source": [
    "Q68. What are loops in Python?"
   ]
  },
  {
   "cell_type": "code",
   "execution_count": null,
   "id": "35dfd42e",
   "metadata": {},
   "outputs": [],
   "source": [
    "executing a certains lines of code for required number of times or untill any condition is full filled "
   ]
  },
  {
   "cell_type": "markdown",
   "id": "e48ef843",
   "metadata": {},
   "source": [
    "Q69. How many type of loop are there in Python?"
   ]
  },
  {
   "cell_type": "raw",
   "id": "dee30a9f",
   "metadata": {},
   "source": [
    "2 types\n",
    "for loop\n",
    "while loop"
   ]
  },
  {
   "cell_type": "markdown",
   "id": "12864728",
   "metadata": {},
   "source": [
    "Q70. What is the difference between for and while loops?"
   ]
  },
  {
   "cell_type": "raw",
   "id": "44bf4e5d",
   "metadata": {},
   "source": [
    "To run a loop for specified number of time we use for loop.\n",
    "To run a loop untill a certain condition becomes false we use while loop"
   ]
  },
  {
   "cell_type": "code",
   "execution_count": null,
   "id": "f49a35d7",
   "metadata": {},
   "outputs": [],
   "source": [
    "Q71. What is the use of continue statement?"
   ]
  },
  {
   "cell_type": "code",
   "execution_count": null,
   "id": "cb518ed9",
   "metadata": {},
   "outputs": [],
   "source": [
    "continue moves the point of execution to start of the loop"
   ]
  },
  {
   "cell_type": "code",
   "execution_count": null,
   "id": "4f8b3ae2",
   "metadata": {},
   "outputs": [],
   "source": [
    "Q72. What is the use of break statement?"
   ]
  },
  {
   "cell_type": "code",
   "execution_count": null,
   "id": "e56756df",
   "metadata": {},
   "outputs": [],
   "source": [
    "break moves the point of execution out of the loop"
   ]
  },
  {
   "cell_type": "code",
   "execution_count": null,
   "id": "a2a7fdee",
   "metadata": {},
   "outputs": [],
   "source": [
    "Q73. What is the use of pass statement?"
   ]
  },
  {
   "cell_type": "raw",
   "id": "af2beccd",
   "metadata": {},
   "source": [
    "pass is used to overcome the function class or loop without showing any error when there ius no statement in it"
   ]
  },
  {
   "cell_type": "code",
   "execution_count": null,
   "id": "bf76a607",
   "metadata": {},
   "outputs": [],
   "source": [
    "Q74. What is the use of range() function?"
   ]
  },
  {
   "cell_type": "code",
   "execution_count": null,
   "id": "d79aca93",
   "metadata": {},
   "outputs": [],
   "source": [
    "it returns range of numbers based on its inputs"
   ]
  },
  {
   "cell_type": "code",
   "execution_count": null,
   "id": "6ae93bda",
   "metadata": {},
   "outputs": [],
   "source": [
    "Q75. How can you loop over a dictionary?"
   ]
  },
  {
   "cell_type": "code",
   "execution_count": 42,
   "id": "9692cdaf",
   "metadata": {},
   "outputs": [
    {
     "name": "stdout",
     "output_type": "stream",
     "text": [
      "Captain America  :  Winter Soldier\n",
      "Spider Man  :  Far from Home\n",
      "Docter Strange  :  Multiverse of Madness\n",
      "Iron Man  :  2\n",
      "Avenger  :  Age of Ultron\n"
     ]
    }
   ],
   "source": [
    "marvel = {}\n",
    "marvel[\"Captain America\"] = \"Winter Soldier\"\n",
    "marvel[\"Spider Man\"] = \"Far from Home\"\n",
    "marvel[\"Docter Strange\"] = \"Multiverse of Madness\"\n",
    "marvel[\"Iron Man\"] = 2\n",
    "marvel[\"Avenger\"] = \"Age of Ultron\"\n",
    "for i in marvel.keys():\n",
    "    print(i,' : ', marvel[i])"
   ]
  },
  {
   "cell_type": "code",
   "execution_count": null,
   "id": "bff46417",
   "metadata": {},
   "outputs": [],
   "source": [
    "### Coding problems\n",
    "Q76. Write a Python program to find the factorial of a given number."
   ]
  },
  {
   "cell_type": "code",
   "execution_count": 44,
   "id": "8539d4f7",
   "metadata": {},
   "outputs": [
    {
     "name": "stdout",
     "output_type": "stream",
     "text": [
      "Enter a number5\n"
     ]
    },
    {
     "data": {
      "text/plain": [
       "120"
      ]
     },
     "execution_count": 44,
     "metadata": {},
     "output_type": "execute_result"
    }
   ],
   "source": [
    "num = int(input(\"Enter a number\"))\n",
    "fact=1\n",
    "for i in range(1,num+1):\n",
    "    fact*=i\n",
    "fact"
   ]
  },
  {
   "cell_type": "code",
   "execution_count": null,
   "id": "2dae1e4b",
   "metadata": {},
   "outputs": [],
   "source": [
    "Q77. Write a Python program to calculate the simple interest. Formula to calculate simple interest is SI = (P*R*T)/100"
   ]
  },
  {
   "cell_type": "code",
   "execution_count": 47,
   "id": "f1778a36",
   "metadata": {},
   "outputs": [
    {
     "name": "stdout",
     "output_type": "stream",
     "text": [
      "Enter principal amount1000\n",
      "Enter time period10\n",
      "Enter rate of intereat20\n"
     ]
    },
    {
     "data": {
      "text/plain": [
       "2000.0"
      ]
     },
     "execution_count": 47,
     "metadata": {},
     "output_type": "execute_result"
    }
   ],
   "source": [
    "P = int(input(\"Enter principal amount\"))\n",
    "T = int(input(\"Enter time period\"))\n",
    "R = int(input(\"Enter rate of intereat\"))\n",
    "\n",
    "I = P*T*R/100\n",
    "\n",
    "I"
   ]
  },
  {
   "cell_type": "markdown",
   "id": "55a597ac",
   "metadata": {},
   "source": [
    "Q78. Write a Python program to calculate the compound interest. Formula of compound interest is A = P(1+ R/100)^t."
   ]
  },
  {
   "cell_type": "code",
   "execution_count": 2,
   "id": "c5ef8982",
   "metadata": {},
   "outputs": [
    {
     "name": "stdout",
     "output_type": "stream",
     "text": [
      "Enter principal amount1\n",
      "Enter time period1\n",
      "Enter rate of intereat1\n"
     ]
    },
    {
     "data": {
      "text/plain": [
       "1.01"
      ]
     },
     "execution_count": 2,
     "metadata": {},
     "output_type": "execute_result"
    }
   ],
   "source": [
    "from math import pow\n",
    "P = int(input(\"Enter principal amount \"))\n",
    "t = int(input(\"Enter time period \"))\n",
    "R = int(input(\"Enter rate of intereat \"))\n",
    "\n",
    "A = P * pow((1+ R/100),t)\n",
    "A"
   ]
  },
  {
   "cell_type": "code",
   "execution_count": null,
   "id": "51c978ef",
   "metadata": {},
   "outputs": [],
   "source": [
    "Q79. Write a Python program to check if a number is prime or not."
   ]
  },
  {
   "cell_type": "code",
   "execution_count": 4,
   "id": "e89060e0",
   "metadata": {},
   "outputs": [
    {
     "name": "stdout",
     "output_type": "stream",
     "text": [
      "Enter a number19\n",
      "19 is a prime number\n"
     ]
    }
   ],
   "source": [
    "n = int(input(\"Enter a number\"))\n",
    "\n",
    "for i in range(2,n):\n",
    "    if n%i == 0:\n",
    "        print(n, \"Is not a prime number\")\n",
    "        break\n",
    "else:\n",
    "    print(n, \"is a prime number\")"
   ]
  },
  {
   "cell_type": "code",
   "execution_count": null,
   "id": "5a5b9c7a",
   "metadata": {},
   "outputs": [],
   "source": [
    "Q80. Write a Python program to check Armstrong Number."
   ]
  },
  {
   "cell_type": "code",
   "execution_count": 25,
   "id": "89ede99b",
   "metadata": {},
   "outputs": [
    {
     "name": "stdout",
     "output_type": "stream",
     "text": [
      "Enter a number 153\n",
      "153.0\n",
      "Armstrong Number\n"
     ]
    }
   ],
   "source": [
    "from math import pow\n",
    "n_str = input(\"Enter a number \")\n",
    "n= int(n_str)\n",
    "d_str = [i for i in n_str]\n",
    "d = map(int, d_str)\n",
    "ln = len(n_str)\n",
    "sum_n=0\n",
    "for i in d:\n",
    "    sum_n+=pow(i,ln)\n",
    "if sum_n == n:\n",
    "    print(\"Armstrong Number\")\n",
    "else:\n",
    "    print(\"NOT Armstrong Number\")"
   ]
  },
  {
   "cell_type": "code",
   "execution_count": null,
   "id": "e0bca01f",
   "metadata": {},
   "outputs": [],
   "source": []
  },
  {
   "cell_type": "markdown",
   "id": "78538890",
   "metadata": {},
   "source": [
    "Q81. Write a Python program to find the n-th Fibonacci Number."
   ]
  },
  {
   "cell_type": "code",
   "execution_count": 33,
   "id": "8b32e670",
   "metadata": {},
   "outputs": [
    {
     "name": "stdout",
     "output_type": "stream",
     "text": [
      "Enter a number123\n"
     ]
    },
    {
     "data": {
      "text/plain": [
       "14028366653498915298923761"
      ]
     },
     "execution_count": 33,
     "metadata": {},
     "output_type": "execute_result"
    }
   ],
   "source": [
    "n = int(input(\"Enter a number\"))\n",
    "fab_1=0\n",
    "fab_2=1\n",
    "for i in range(2,n):\n",
    "    temp = fab_1+fab_2\n",
    "    fab_1 = fab_2\n",
    "    fab_2=temp\n",
    "fab_2"
   ]
  },
  {
   "cell_type": "markdown",
   "id": "8b99263c",
   "metadata": {},
   "source": [
    "Q82. Write a Python program to interchange the first and last element in a list."
   ]
  },
  {
   "cell_type": "code",
   "execution_count": 34,
   "id": "0dfad827",
   "metadata": {},
   "outputs": [
    {
     "data": {
      "text/plain": [
       "[90, 23, 34, 45, 56, 67, 78, 12]"
      ]
     },
     "execution_count": 34,
     "metadata": {},
     "output_type": "execute_result"
    }
   ],
   "source": [
    "glist = [12, 23, 34, 45, 56, 67, 78, 90]\n",
    "temp = glist[0]\n",
    "n= len(glist)\n",
    "glist[0] = glist[n-1]\n",
    "glist[n-1] = temp\n",
    "glist"
   ]
  },
  {
   "cell_type": "code",
   "execution_count": null,
   "id": "c94e2719",
   "metadata": {},
   "outputs": [],
   "source": [
    "Q83. Write a Python program to swap two elements in a list."
   ]
  },
  {
   "cell_type": "code",
   "execution_count": 35,
   "id": "98c96a5c",
   "metadata": {},
   "outputs": [
    {
     "name": "stdout",
     "output_type": "stream",
     "text": [
      "Enter first index2\n",
      "Enter second index4\n"
     ]
    },
    {
     "data": {
      "text/plain": [
       "[12, 23, 56, 45, 34, 67, 78, 90]"
      ]
     },
     "execution_count": 35,
     "metadata": {},
     "output_type": "execute_result"
    }
   ],
   "source": [
    "glist = [12, 23, 34, 45, 56, 67, 78, 90]\n",
    "inx1=int(input(\"Enter first index\"))\n",
    "inx2=int(input(\"Enter second index\"))\n",
    "temp = glist[inx1]\n",
    "glist[inx1] = glist[inx2]\n",
    "glist[inx2] = temp\n",
    "glist"
   ]
  },
  {
   "cell_type": "markdown",
   "id": "f4ce6e7e",
   "metadata": {},
   "source": [
    "Q84. Write a Python program to find N largest element from a list."
   ]
  },
  {
   "cell_type": "code",
   "execution_count": 3,
   "id": "e35faa33",
   "metadata": {},
   "outputs": [
    {
     "name": "stdout",
     "output_type": "stream",
     "text": [
      "Enter a number4\n",
      "[90, 78, 67, 56]\n"
     ]
    }
   ],
   "source": [
    "glist = [12, 23, 34, 45, 56, 67, 78, 90]\n",
    "n = int(input(\"Enter a number\"))\n",
    "if len(glist) <=n:\n",
    "    print(glist)\n",
    "else:\n",
    "    maxlist=[]\n",
    "    for i in range(n):\n",
    "        max_elm = max(glist)\n",
    "        glist.remove(max_elm)\n",
    "        maxlist.append(max_elm)\n",
    "    print(maxlist)\n",
    "        "
   ]
  },
  {
   "cell_type": "code",
   "execution_count": null,
   "id": "bf71a45f",
   "metadata": {},
   "outputs": [],
   "source": [
    "Q85. Write a Python program to find cumulative sum of a list."
   ]
  },
  {
   "cell_type": "code",
   "execution_count": 1,
   "id": "e3ad4b47",
   "metadata": {},
   "outputs": [
    {
     "data": {
      "text/plain": [
       "[12, 35, 69, 114, 170, 237, 315, 405]"
      ]
     },
     "execution_count": 1,
     "metadata": {},
     "output_type": "execute_result"
    }
   ],
   "source": [
    "glist = [12, 23, 34, 45, 56, 67, 78, 90]\n",
    "cumlist=[]\n",
    "for i in range(1,len(glist)+1):\n",
    "    cumlist.append(sum(glist[:i]))\n",
    "cumlist"
   ]
  },
  {
   "cell_type": "code",
   "execution_count": null,
   "id": "fda798b8",
   "metadata": {},
   "outputs": [],
   "source": [
    "Q86. Write a Python program to check if a string is palindrome or not."
   ]
  },
  {
   "cell_type": "code",
   "execution_count": 4,
   "id": "1dee5660",
   "metadata": {},
   "outputs": [
    {
     "name": "stdout",
     "output_type": "stream",
     "text": [
      "Enter a string  -> dad\n",
      "Palindrome\n"
     ]
    }
   ],
   "source": [
    "instr = input(\"Enter a string  -> \")\n",
    "if instr==instr[::-1]:\n",
    "    print(\"Palindrome\")\n",
    "else:\n",
    "    print(\"Not Palindrome\")"
   ]
  },
  {
   "cell_type": "markdown",
   "id": "cf40dea1",
   "metadata": {},
   "source": [
    "Q87. Write a Python program to remove i'th element from a string."
   ]
  },
  {
   "cell_type": "code",
   "execution_count": 8,
   "id": "fa7526fb",
   "metadata": {},
   "outputs": [
    {
     "name": "stdout",
     "output_type": "stream",
     "text": [
      "Enter a string  -> asdfghj\n",
      "Enter index -> 4\n",
      "asdghj\n"
     ]
    }
   ],
   "source": [
    "instr = input(\"Enter a string  -> \")\n",
    "i = int(input(\"Enter index -> \"))\n",
    "if i > len(instr):\n",
    "    print(\"Wrong input\")\n",
    "else:\n",
    "    print(instr[:i-1]+instr[i:])"
   ]
  },
  {
   "cell_type": "markdown",
   "id": "5d0b6351",
   "metadata": {},
   "source": [
    "Q88. Write a Python program to check if a substring is present in a given string."
   ]
  },
  {
   "cell_type": "code",
   "execution_count": 10,
   "id": "a331da64",
   "metadata": {},
   "outputs": [
    {
     "name": "stdout",
     "output_type": "stream",
     "text": [
      "Enter a string  -> abcdefg\n",
      "Enter sub string -> cd\n",
      "Present\n"
     ]
    }
   ],
   "source": [
    "instr = input(\"Enter a string  -> \")\n",
    "insubstr = input(\"Enter sub string -> \")\n",
    "if insubstr in instr:\n",
    "    print(\"Present\")\n",
    "else:\n",
    "    print(\"Absent\")"
   ]
  },
  {
   "cell_type": "code",
   "execution_count": null,
   "id": "306115bf",
   "metadata": {},
   "outputs": [],
   "source": [
    "Q89. Write a Python program to find words which are greater than given length k."
   ]
  },
  {
   "cell_type": "code",
   "execution_count": 11,
   "id": "04a888c7",
   "metadata": {},
   "outputs": [
    {
     "name": "stdout",
     "output_type": "stream",
     "text": [
      "Enter a word  -> wasgdhsh\n",
      "Enter length -> 123\n",
      "FALSE\n"
     ]
    }
   ],
   "source": [
    "instr = input(\"Enter a word  -> \")\n",
    "k = int(input(\"Enter length -> \"))\n",
    "\n",
    "if len(instr) > k:\n",
    "    print(\"TRUE\")\n",
    "else:\n",
    "    print(\"FALSE\")"
   ]
  },
  {
   "cell_type": "code",
   "execution_count": null,
   "id": "225cf136",
   "metadata": {},
   "outputs": [],
   "source": [
    "Q90. Write a Python program to extract unquire dictionary values."
   ]
  },
  {
   "cell_type": "code",
   "execution_count": 12,
   "id": "cc18a812",
   "metadata": {},
   "outputs": [
    {
     "data": {
      "text/plain": [
       "[4, 6, 3, 7]"
      ]
     },
     "execution_count": 12,
     "metadata": {},
     "output_type": "execute_result"
    }
   ],
   "source": [
    "gdict = {\n",
    "    \"A\" : 4,\n",
    "    \"B\" : 6,\n",
    "    \"C\" : 3,\n",
    "    \"E\" : 6,\n",
    "    \"F\" : 7,\n",
    "}\n",
    "unq=[]\n",
    "for i in gdict.values():\n",
    "    if i not in unq:\n",
    "        unq.append(i)\n",
    "unq"
   ]
  },
  {
   "cell_type": "code",
   "execution_count": null,
   "id": "2a9f083e",
   "metadata": {},
   "outputs": [],
   "source": [
    "Q91. Write a Python program to merge two dictionary."
   ]
  },
  {
   "cell_type": "code",
   "execution_count": 2,
   "id": "503d863c",
   "metadata": {},
   "outputs": [
    {
     "data": {
      "text/plain": [
       "{'A': 4, 'B': 6, 'C': 3, 'E': 6, 'F': 7}"
      ]
     },
     "execution_count": 2,
     "metadata": {},
     "output_type": "execute_result"
    }
   ],
   "source": [
    "gdict1 = {\n",
    "    \"A\" : 4,\n",
    "    \"B\" : 6,\n",
    "}\n",
    "gdict2 = {\n",
    "    \"C\" : 3,\n",
    "    \"E\" : 6,\n",
    "    \"F\" : 7,\n",
    "}\n",
    "\n",
    "gdict1.update(gdict2)\n",
    "gdict1"
   ]
  },
  {
   "cell_type": "code",
   "execution_count": null,
   "id": "662f1d8d",
   "metadata": {},
   "outputs": [],
   "source": [
    "Q92. Write a Python program to convert a list of tuples into dictionary.\n",
    "```\n",
    "Input : [('Sachin', 10), ('MSD', 7), ('Kohli', 18), ('Rohit', 45)]\n",
    "Output : {'Sachin': 10, 'MSD': 7, 'Kohli': 18, 'Rohit': 45}\n",
    "```"
   ]
  },
  {
   "cell_type": "code",
   "execution_count": 4,
   "id": "a6bd6358",
   "metadata": {},
   "outputs": [
    {
     "data": {
      "text/plain": [
       "{'Sachin': 10, 'MSD': 7, 'Kohli': 18, 'Rohit': 45}"
      ]
     },
     "execution_count": 4,
     "metadata": {},
     "output_type": "execute_result"
    }
   ],
   "source": [
    "Input = [('Sachin', 10), ('MSD', 7), ('Kohli', 18), ('Rohit', 45)]\n",
    "# Output : {'Sachin': 10, 'MSD': 7, 'Kohli': 18, 'Rohit': 45}\n",
    "def pair_to_dict(pair):\n",
    "    return {pair[0] : pair[1]}\n",
    "yedict={}\n",
    "for i in Input:\n",
    "    yedict.update(pair_to_dict(i))\n",
    "yedict"
   ]
  },
  {
   "cell_type": "markdown",
   "id": "34c94570",
   "metadata": {},
   "source": [
    "Q93. Write a Python program to create a list of tuples from given list having number and its cube in each tuple.\n",
    "```\n",
    "Input: list = [9, 5, 6]\n",
    "Output: [(9, 729), (5, 125), (6, 216)]\n",
    "```"
   ]
  },
  {
   "cell_type": "code",
   "execution_count": 5,
   "id": "19f0229e",
   "metadata": {},
   "outputs": [
    {
     "data": {
      "text/plain": [
       "[(9, 729), (5, 125), (6, 216)]"
      ]
     },
     "execution_count": 5,
     "metadata": {},
     "output_type": "execute_result"
    }
   ],
   "source": [
    "Input=[9, 5, 6]\n",
    "output=[]\n",
    "for i in Input:\n",
    "    output.append((i,i**3))\n",
    "output"
   ]
  },
  {
   "cell_type": "markdown",
   "id": "555a5227",
   "metadata": {},
   "source": [
    "Q94. Write a Python program to get all combinations of 2 tuples.\n",
    "```\n",
    "Input : test_tuple1 = (7, 2), test_tuple2 = (7, 8)\n",
    "Output : [(7, 7), (7, 8), (2, 7), (2, 8), (7, 7), (7, 2), (8, 7), (8, 2)]\n",
    "```\n"
   ]
  },
  {
   "cell_type": "code",
   "execution_count": 8,
   "id": "50adaa28",
   "metadata": {},
   "outputs": [
    {
     "data": {
      "text/plain": [
       "[(7, 7), (7, 7), (7, 8), (8, 7), (2, 7), (7, 2), (2, 8), (8, 2)]"
      ]
     },
     "execution_count": 8,
     "metadata": {},
     "output_type": "execute_result"
    }
   ],
   "source": [
    "tup1=(7,2)\n",
    "tup2=(7,8)\n",
    "output=[]\n",
    "for i in tup1:\n",
    "    for j in tup2:\n",
    "        output.append((i,j))\n",
    "        output.append((j,i))\n",
    "output"
   ]
  },
  {
   "cell_type": "code",
   "execution_count": null,
   "id": "2a92d43d",
   "metadata": {},
   "outputs": [],
   "source": [
    "Q95. Write a Python program to sort a list of tuples by second item.\n",
    "```\n",
    "Input : [('for', 24), ('Geeks', 8), ('Geeks', 30)] \n",
    "Output : [('Geeks', 8), ('for', 24), ('Geeks', 30)]\n",
    "```\n"
   ]
  },
  {
   "cell_type": "code",
   "execution_count": 34,
   "id": "1d429f4d",
   "metadata": {},
   "outputs": [
    {
     "data": {
      "text/plain": [
       "[('Geeks', 8), ('Geeks', 30), ('for', 24)]"
      ]
     },
     "execution_count": 34,
     "metadata": {},
     "output_type": "execute_result"
    }
   ],
   "source": [
    "Input = [('for', 24), ('Geeks', 8), ('Geeks', 30)] \n",
    "\n",
    "key = [x[1] for x in Input]\n",
    "[x for x, _ in sorted(zip(Input, key))]"
   ]
  },
  {
   "cell_type": "code",
   "execution_count": null,
   "id": "b4b209dd",
   "metadata": {},
   "outputs": [],
   "source": [
    "Q96. Write a python program to print below pattern.\n",
    "```\n",
    "* \n",
    "* * \n",
    "* * * \n",
    "* * * * \n",
    "* * * * * \n",
    "```"
   ]
  },
  {
   "cell_type": "code",
   "execution_count": 38,
   "id": "69fc6ea0",
   "metadata": {},
   "outputs": [
    {
     "name": "stdout",
     "output_type": "stream",
     "text": [
      "* \n",
      "* * \n",
      "* * * \n",
      "* * * * \n",
      "* * * * * \n"
     ]
    }
   ],
   "source": [
    "for i in range(5):\n",
    "    for j in range(i+1):\n",
    "        print(\"*\", end=\" \")\n",
    "    print()"
   ]
  },
  {
   "cell_type": "code",
   "execution_count": null,
   "id": "537e507c",
   "metadata": {},
   "outputs": [],
   "source": [
    "Q97. Write a python program to print below pattern.\n",
    "```\n",
    "    *\n",
    "   **\n",
    "  ***\n",
    " ****\n",
    "*****\n",
    "```"
   ]
  },
  {
   "cell_type": "code",
   "execution_count": 46,
   "id": "dacb32e1",
   "metadata": {},
   "outputs": [
    {
     "name": "stdout",
     "output_type": "stream",
     "text": [
      "       \n",
      "      *\n",
      "     **\n",
      "    ***\n",
      "   ****\n",
      "  *****\n"
     ]
    }
   ],
   "source": [
    "for i in range(6,0,-1):\n",
    "    for j in range(i+1):\n",
    "        print(\" \", end=\"\")\n",
    "    for k in range(6-i):\n",
    "        print(\"*\", end=\"\")\n",
    "    print()"
   ]
  },
  {
   "cell_type": "code",
   "execution_count": null,
   "id": "1b3484f1",
   "metadata": {},
   "outputs": [],
   "source": [
    "Q98. Write a python program to print below pattern.\n",
    "```\n",
    "    * \n",
    "   * * \n",
    "  * * * \n",
    " * * * * \n",
    "* * * * * \n",
    "```"
   ]
  },
  {
   "cell_type": "code",
   "execution_count": 47,
   "id": "a632b2cd",
   "metadata": {},
   "outputs": [
    {
     "name": "stdout",
     "output_type": "stream",
     "text": [
      "       \n",
      "      * \n",
      "     * * \n",
      "    * * * \n",
      "   * * * * \n",
      "  * * * * * \n"
     ]
    }
   ],
   "source": [
    "for i in range(6,0,-1):\n",
    "    for j in range(i+1):\n",
    "        print(\" \", end=\"\")\n",
    "    for k in range(6-i):\n",
    "        print(\"*\", end=\" \")\n",
    "    print()"
   ]
  },
  {
   "cell_type": "code",
   "execution_count": null,
   "id": "1dca1e5d",
   "metadata": {},
   "outputs": [],
   "source": [
    "\n",
    "Q99. Write a python program to print below pattern.\n",
    "```\n",
    "1 \n",
    "1 2 \n",
    "1 2 3 \n",
    "1 2 3 4 \n",
    "1 2 3 4 5\n",
    "```\n"
   ]
  },
  {
   "cell_type": "code",
   "execution_count": 50,
   "id": "cc2d5355",
   "metadata": {},
   "outputs": [
    {
     "name": "stdout",
     "output_type": "stream",
     "text": [
      "\n",
      "1 \n",
      "1 2 \n",
      "1 2 3 \n",
      "1 2 3 4 \n",
      "1 2 3 4 5 \n"
     ]
    }
   ],
   "source": [
    "for i in range(1,7):\n",
    "    for j in range(1,i):\n",
    "        print(j, end=\" \")\n",
    "    print()"
   ]
  },
  {
   "cell_type": "code",
   "execution_count": null,
   "id": "32d2711e",
   "metadata": {},
   "outputs": [],
   "source": [
    "\n",
    "Q100. Write a python program to print below pattern.\n",
    "```\n",
    "A \n",
    "B B \n",
    "C C C \n",
    "D D D D \n",
    "E E E E E \n",
    "```\n"
   ]
  },
  {
   "cell_type": "code",
   "execution_count": 53,
   "id": "220cdb41",
   "metadata": {},
   "outputs": [
    {
     "name": "stdout",
     "output_type": "stream",
     "text": [
      "A \n",
      "B B \n",
      "C C C \n",
      "D D D D \n",
      "E E E E E \n"
     ]
    }
   ],
   "source": [
    "charlist=[\"A\", \"B\", \"C\", \"D\", \"E\"]\n",
    "for i in range(len(charlist)):\n",
    "    for j in range(i+1):\n",
    "        print(charlist[i], end=\" \")\n",
    "    print()"
   ]
  },
  {
   "cell_type": "code",
   "execution_count": null,
   "id": "15ce53c2",
   "metadata": {},
   "outputs": [],
   "source": []
  },
  {
   "cell_type": "code",
   "execution_count": null,
   "id": "1ab86b4d",
   "metadata": {},
   "outputs": [],
   "source": []
  },
  {
   "cell_type": "code",
   "execution_count": null,
   "id": "8d2d8e9f",
   "metadata": {},
   "outputs": [],
   "source": []
  },
  {
   "cell_type": "code",
   "execution_count": null,
   "id": "7ed104b9",
   "metadata": {},
   "outputs": [],
   "source": []
  },
  {
   "cell_type": "code",
   "execution_count": null,
   "id": "4d82f518",
   "metadata": {},
   "outputs": [],
   "source": []
  },
  {
   "cell_type": "code",
   "execution_count": null,
   "id": "1b49f5ed",
   "metadata": {},
   "outputs": [],
   "source": []
  },
  {
   "cell_type": "code",
   "execution_count": null,
   "id": "f2a2bd7f",
   "metadata": {},
   "outputs": [],
   "source": []
  },
  {
   "cell_type": "code",
   "execution_count": null,
   "id": "6febbae5",
   "metadata": {},
   "outputs": [],
   "source": []
  },
  {
   "cell_type": "code",
   "execution_count": null,
   "id": "d9ecbfbf",
   "metadata": {},
   "outputs": [],
   "source": []
  },
  {
   "cell_type": "code",
   "execution_count": null,
   "id": "344d8d9b",
   "metadata": {},
   "outputs": [],
   "source": []
  }
 ],
 "metadata": {
  "kernelspec": {
   "display_name": "Python 3 (ipykernel)",
   "language": "python",
   "name": "python3"
  },
  "language_info": {
   "codemirror_mode": {
    "name": "ipython",
    "version": 3
   },
   "file_extension": ".py",
   "mimetype": "text/x-python",
   "name": "python",
   "nbconvert_exporter": "python",
   "pygments_lexer": "ipython3",
   "version": "3.9.7"
  }
 },
 "nbformat": 4,
 "nbformat_minor": 5
}
